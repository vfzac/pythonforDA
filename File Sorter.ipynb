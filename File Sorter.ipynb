{
 "cells": [
  {
   "cell_type": "code",
   "execution_count": 1,
   "id": "26528cf3",
   "metadata": {},
   "outputs": [],
   "source": [
    "import os, shutil\n",
    "from collections import Counter"
   ]
  },
  {
   "cell_type": "code",
   "execution_count": 67,
   "id": "6841d987",
   "metadata": {},
   "outputs": [],
   "source": [
    "# figure out what file types are present in the folder\n",
    "def GetList(sPath, type_or_name):\n",
    "    # list of everything in the directory\n",
    "    all_directory = os.listdir(sPath)\n",
    "    # Filter out only the files (not folders)\n",
    "    list_files = [os.path.splitext(item)[type_or_name] for item in all_directory if os.path.isfile(os.path.join(sPath, item))]\n",
    "    \n",
    "    # This makes a list with the file and its number of occurence\n",
    "    file_count = Counter(list_files)\n",
    "    file_unique = []\n",
    "    \n",
    "    for file, count in file_count.items():\n",
    "        #print(f\"{extension}: {count}\")\n",
    "        if count > 1:\n",
    "            file_unique.append(file)\n",
    "    return file_unique\n",
    "\n",
    "# seperated for clarity\n",
    "def String_Slicer(item, type_or_name):\n",
    "    return os.path.splitext(item)[type_or_name][:len(os.path.splitext(item)[type_or_name])] \n",
    "\n",
    "    \n",
    "def CreateFolder(sPath, type_or_name):\n",
    "    folder_names = GetList(sPath, type_or_name)\n",
    "    \n",
    "    for name in range(0,len(folder_names)): #loop however many is in the folder names list\n",
    "        if len(folder_names)==0: print(\"no folder \") #if the folder names is 0 return \"no folder to make\"\n",
    "        elif not os.path.isdir(sPath + folder_names[name]): #if the path folder does not exist, create one\n",
    "            #os.makedirs(sPath + folder_names[name]) #create folder\n",
    "            print (f\"folder: {folder_names[name]} created\")\n",
    "\n",
    "CreateFolder(\"C:/Users/halim/Downloads/\", 0)"
   ]
  },
  {
   "cell_type": "code",
   "execution_count": null,
   "id": "d3b05ae8",
   "metadata": {},
   "outputs": [],
   "source": [
    "# if listdirpath contains more than multiple of one entry add to foldernames\n",
    "def FileNames (sPath):\n",
    "    # list of everything in the directory\n",
    "    all_directory = os.listdir(sPath)\n",
    "    # Filter out only the files (not folders)\n",
    "    files_only = [item for item in all_directory if os.path.isfile(os.path.join(sPath, item))]\n",
    "    extension_count = Counter(file_extensions)\n",
    "\n",
    "    # get 75% ofthe file name\n",
    "    # check if other multiple exists\n",
    "    # if yes add to list\n",
    "    for extension, count in extension_count.items():\n",
    "        print(f\"{extension}: {count}\")\n",
    "    "
   ]
  },
  {
   "cell_type": "code",
   "execution_count": 1,
   "id": "7e24c147",
   "metadata": {},
   "outputs": [
    {
     "name": "stdout",
     "output_type": "stream",
     "text": [
      "File extension counts:\n",
      ".zip: 37\n",
      ".png: 10\n",
      ".jpg: 1\n",
      ".pdf: 6\n",
      ".eml: 1\n",
      ".ini: 1\n",
      ".jfif: 1\n",
      ".wav: 3\n",
      ".mkv: 4\n"
     ]
    }
   ],
   "source": [
    "import os\n",
    "from collections import Counter\n",
    "\n",
    "directory_path = \"C:/Users/halim/Downloads/\"  # Replace with the path to your directory\n",
    "\n",
    "# Get a list of all items in the directory\n",
    "all_items = os.listdir(directory_path)\n",
    "\n",
    "# Extract file extensions and count occurrences using Counter\n",
    "file_extensions = [os.path.splitext(item)[1] for item in all_items if os.path.isfile(os.path.join(directory_path, item))]\n",
    "extension_count = Counter(file_extensions)\n",
    "\n",
    "# Print the count for each file extension\n",
    "print(\"File extension counts:\")\n",
    "for extension, count in extension_count.items():\n",
    "    print(f\"{extension}: {count}\")\n"
   ]
  },
  {
   "cell_type": "code",
   "execution_count": null,
   "id": "6b9f7dfc",
   "metadata": {},
   "outputs": [],
   "source": []
  }
 ],
 "metadata": {
  "kernelspec": {
   "display_name": "Python 3 (ipykernel)",
   "language": "python",
   "name": "python3"
  },
  "language_info": {
   "codemirror_mode": {
    "name": "ipython",
    "version": 3
   },
   "file_extension": ".py",
   "mimetype": "text/x-python",
   "name": "python",
   "nbconvert_exporter": "python",
   "pygments_lexer": "ipython3",
   "version": "3.11.5"
  }
 },
 "nbformat": 4,
 "nbformat_minor": 5
}
