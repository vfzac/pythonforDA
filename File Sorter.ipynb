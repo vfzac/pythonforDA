{
 "cells": [
  {
   "cell_type": "code",
   "execution_count": 1,
   "id": "26528cf3",
   "metadata": {},
   "outputs": [],
   "source": [
    "import os, shutil"
   ]
  },
  {
   "cell_type": "code",
   "execution_count": 2,
   "id": "38e432be",
   "metadata": {},
   "outputs": [],
   "source": [
    "#folder path to be sorted, use backslash instead of slash\n",
    "sPath = \"C:/Users/halim/OneDrive/Pictures/Samsung Flow/\""
   ]
  },
  {
   "cell_type": "code",
   "execution_count": 3,
   "id": "937d46d1",
   "metadata": {},
   "outputs": [
    {
     "data": {
      "text/plain": [
       "[]"
      ]
     },
     "execution_count": 3,
     "metadata": {},
     "output_type": "execute_result"
    }
   ],
   "source": [
    "#show files/folders in the path variable\n",
    "os.listdir(sPath) "
   ]
  },
  {
   "cell_type": "code",
   "execution_count": 4,
   "id": "2bc75725",
   "metadata": {},
   "outputs": [],
   "source": [
    " def CreateFolder(sPath):\n",
    "    folderNames = ['csv files', 'image', 'text']\n",
    "    for loop in range(0,len(folderNames)): #loop however many is in the folder names list\n",
    "        if len(folderNames)==0: print(\"no folder \") #if the folder names is 0 return \"no folder to make\"\n",
    "        elif not os.path.isdir(sPath + folderNames[loop]): #if the path folder does not exist, create one\n",
    "            os.makedirs(sPath + folderNames[loop]) #create folder\n",
    "            print (f\"folder: {folderNames[loop]} created\")\n"
   ]
  },
  {
   "cell_type": "code",
   "execution_count": 6,
   "id": "a65d5cc7",
   "metadata": {},
   "outputs": [],
   "source": [
    "CreateFolder(sPath)"
   ]
  },
  {
   "cell_type": "code",
   "execution_count": null,
   "id": "6841d987",
   "metadata": {},
   "outputs": [],
   "source": [
    "#figure out what different file types are present in the folder\n",
    "def FileType(sPath):\n",
    "    fileTypes = [] \n",
    "    "
   ]
  },
  {
   "cell_type": "code",
   "execution_count": null,
   "id": "7e0c24c5",
   "metadata": {},
   "outputs": [],
   "source": [
    "def SameName(sPath):\n",
    "    sFileName  = []\n",
    "    for name in os.lisdir(sPath):\n",
    "        if name not in sFileName"
   ]
  },
  {
   "cell_type": "code",
   "execution_count": 9,
   "id": "34ee5637",
   "metadata": {},
   "outputs": [
    {
     "ename": "AttributeError",
     "evalue": "'list' object has no attribute 'extention'",
     "output_type": "error",
     "traceback": [
      "\u001b[1;31m---------------------------------------------------------------------------\u001b[0m",
      "\u001b[1;31mAttributeError\u001b[0m                            Traceback (most recent call last)",
      "Cell \u001b[1;32mIn[9], line 15\u001b[0m\n\u001b[0;32m     12\u001b[0m     name, extension \u001b[38;5;241m=\u001b[39m os\u001b[38;5;241m.\u001b[39mpath\u001b[38;5;241m.\u001b[39msplitext(file_name)\n\u001b[0;32m     13\u001b[0m     file_names_without_extension\u001b[38;5;241m.\u001b[39mappend(name)\n\u001b[1;32m---> 15\u001b[0m \u001b[38;5;28mprint\u001b[39m(file_names\u001b[38;5;241m.\u001b[39mextention)\n",
      "\u001b[1;31mAttributeError\u001b[0m: 'list' object has no attribute 'extention'"
     ]
    }
   ],
   "source": [
    "import os\n",
    "\n",
    "directory_path = \"C:/Users/halim/OneDrive/Pictures\"  # Replace with the path to your directory\n",
    "\n",
    "# Get a list of file names in the directory\n",
    "file_names = os.listdir(directory_path)\n",
    "\n",
    "# Iterate through the file names and extract the file names without extensions\n",
    "file_names_without_extension = []\n",
    "\n",
    "for file_name in file_names:\n",
    "    name, extension = os.path.splitext(file_name)\n",
    "    file_names_without_extension.append(name)\n",
    "\n",
    "print(file_names)"
   ]
  },
  {
   "cell_type": "code",
   "execution_count": null,
   "id": "7f227abd",
   "metadata": {},
   "outputs": [],
   "source": []
  }
 ],
 "metadata": {
  "kernelspec": {
   "display_name": "Python 3 (ipykernel)",
   "language": "python",
   "name": "python3"
  },
  "language_info": {
   "codemirror_mode": {
    "name": "ipython",
    "version": 3
   },
   "file_extension": ".py",
   "mimetype": "text/x-python",
   "name": "python",
   "nbconvert_exporter": "python",
   "pygments_lexer": "ipython3",
   "version": "3.11.5"
  }
 },
 "nbformat": 4,
 "nbformat_minor": 5
}
