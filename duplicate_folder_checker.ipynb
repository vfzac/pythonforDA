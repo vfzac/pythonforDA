{
 "cells": [
  {
   "cell_type": "code",
   "execution_count": null,
   "id": "b4a8755b",
   "metadata": {},
   "outputs": [],
   "source": [
    "###### import os\n",
    "from collections import defaultdict\n",
    "\n",
    "def find_duplicate_folders(root_folder):\n",
    "    folder_dict = defaultdict(list)\n",
    "\n",
    "    for foldername, subfolders, _ in os.walk(root_folder):\n",
    "        folder_dict[os.path.basename(foldername)].append(foldername)\n",
    "\n",
    "    duplicate_folders = {name: paths for name, paths in folder_dict.items() if len(paths) > 1}\n",
    "\n",
    "    # Filter out folders with the same name but located in the same path\n",
    "    duplicate_folders = {name: paths for name, paths in duplicate_folders.items() if len(set(map(os.path.dirname, paths))) > 1}\n",
    "\n",
    "    return duplicate_folders\n",
    "\n",
    "def print_duplicate_folders(duplicate_folders):\n",
    "    if not duplicate_folders:\n",
    "        print(\"No duplicate folders found.\")\n",
    "    else:\n",
    "        print(\"Duplicate folders:\")\n",
    "        for name, paths in duplicate_folders.items():\n",
    "            print(f\"Folder: {name}\")\n",
    "            for path in paths:\n",
    "                print(f\"  - {path}\")\n",
    "\n",
    "# Specify the root directory where the search for duplicate folders will begin\n",
    "root_directory = \"\"\n",
    "\n",
    "# Find duplicate folders\n",
    "duplicate_folders = find_duplicate_folders(root_directory)\n",
    "\n",
    "# Display the results\n",
    "print_duplicate_folders(duplicate_folders)\n"
   ]
  },
  {
   "cell_type": "code",
   "execution_count": null,
   "id": "6ad7076c",
   "metadata": {},
   "outputs": [],
   "source": []
  }
 ],
 "metadata": {
  "kernelspec": {
   "display_name": "Python 3 (ipykernel)",
   "language": "python",
   "name": "python3"
  },
  "language_info": {
   "codemirror_mode": {
    "name": "ipython",
    "version": 3
   },
   "file_extension": ".py",
   "mimetype": "text/x-python",
   "name": "python",
   "nbconvert_exporter": "python",
   "pygments_lexer": "ipython3",
   "version": "3.11.5"
  }
 },
 "nbformat": 4,
 "nbformat_minor": 5
}
