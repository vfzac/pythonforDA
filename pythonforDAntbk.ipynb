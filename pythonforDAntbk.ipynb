{
 "cells": [
  {
   "cell_type": "markdown",
   "id": "fc364521",
   "metadata": {},
   "source": [
    "# Jupyter Start:"
   ]
  },
  {
   "cell_type": "code",
   "execution_count": 1,
   "id": "62c50ce9",
   "metadata": {},
   "outputs": [],
   "source": [
    "def fibo_recur(n):\n",
    "    if n <= 1: return n\n",
    "    else: return (fibo_recur(n-1)+fibo_recur(n-2))"
   ]
  },
  {
   "cell_type": "code",
   "execution_count": 2,
   "id": "62d6a4bc",
   "metadata": {},
   "outputs": [
    {
     "name": "stdout",
     "output_type": "stream",
     "text": [
      "34\n"
     ]
    }
   ],
   "source": [
    "print(fibo_recur(9))"
   ]
  },
  {
   "cell_type": "code",
   "execution_count": 1,
   "id": "777a4ba7",
   "metadata": {},
   "outputs": [],
   "source": [
    "import pandas"
   ]
  },
  {
   "cell_type": "code",
   "execution_count": null,
   "id": "09db6dec",
   "metadata": {},
   "outputs": [],
   "source": []
  }
 ],
 "metadata": {
  "kernelspec": {
   "display_name": "Python 3 (ipykernel)",
   "language": "python",
   "name": "python3"
  },
  "language_info": {
   "codemirror_mode": {
    "name": "ipython",
    "version": 3
   },
   "file_extension": ".py",
   "mimetype": "text/x-python",
   "name": "python",
   "nbconvert_exporter": "python",
   "pygments_lexer": "ipython3",
   "version": "3.11.5"
  }
 },
 "nbformat": 4,
 "nbformat_minor": 5
}
