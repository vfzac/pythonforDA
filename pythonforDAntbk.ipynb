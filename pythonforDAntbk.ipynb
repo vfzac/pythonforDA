{
 "cells": [
  {
   "cell_type": "markdown",
   "id": "fc364521",
   "metadata": {},
   "source": [
    "# Jupyter Start:"
   ]
  },
  {
   "cell_type": "code",
   "execution_count": 1,
   "id": "62c50ce9",
   "metadata": {},
   "outputs": [],
   "source": [
    "def fibo_recur(n):\n",
    "    if n <= 1: return n\n",
    "    else: return (fibo_recur(n-1)+fibo_recur(n-2))"
   ]
  },
  {
   "cell_type": "code",
   "execution_count": 2,
   "id": "62d6a4bc",
   "metadata": {},
   "outputs": [
    {
     "name": "stdout",
     "output_type": "stream",
     "text": [
      "34\n"
     ]
    }
   ],
   "source": [
    "print(fibo_recur(9))"
   ]
  },
  {
   "cell_type": "code",
   "execution_count": 3,
   "id": "777a4ba7",
   "metadata": {},
   "outputs": [],
   "source": [
    "import pandas as pd"
   ]
  },
  {
   "cell_type": "code",
   "execution_count": 4,
   "id": "09db6dec",
   "metadata": {},
   "outputs": [],
   "source": [
    "filedir = \"D:/tmep/\"\n",
    "datafile = pd.read_json(f\"{filedir}search-history.json\")\n",
    "df = pd.DataFrame(datafile)"
   ]
  },
  {
   "cell_type": "code",
   "execution_count": 6,
   "id": "e40aab64",
   "metadata": {},
   "outputs": [
    {
     "name": "stdout",
     "output_type": "stream",
     "text": [
      "1891    Watched That time I got reincarnated as a slim...\n",
      "1892    Watched Revised jikamarie   YT Bumper and Skip...\n",
      "1909                      Watched It's All in U - DAO 15s\n",
      "1927                  Watched video-KY-0426(EN,STORY).mp4\n",
      "1928              Watched yeahmobi V99 品牌推广 720x720 sunny\n",
      "1942      Watched video-WB-2721(ID,PPL)ID CHALLENGE 3.mp4\n",
      "1943    Watched en 1920x1080 behindthecurtain2xh122eve...\n",
      "1944               Watched Build a network that can help.\n",
      "1945    Watched PH GF en AlwaysOn ACQ MAIA APPC TRYGRA...\n",
      "1946    Watched SFH ESSENTIALS KV SEG B 1200x1200 SHOPNOW\n",
      "1947                  Watched SFH SEG A 1200x628 SHOP NOW\n",
      "1988    Watched How to send money for FREE with Shopee...\n",
      "1990    Watched PH GF en AlwaysOn ACQ MAIA APPC TRYGRA...\n",
      "1991                        Watched Shopee Bubble 1x1 15s\n",
      "1992    Watched GenPromo_VT-eat_CU110_DC-HotDeals_V-NA...\n",
      "1993    Watched 4.4 ShopeePay Sale from Mar 27-Apr 6! ...\n",
      "1994    Watched 4.4 ShopeePay Sale from Mar 27-Apr 6! ...\n",
      "3616    Visited market://details?id=com.riotgames.leag...\n",
      "3617    Visited market://details?id=com.global.foodpan...\n",
      "3635    Visited market://details?id=com.miHoYo.Genshin...\n",
      "3685    Visited market://details?id=com.gravity.labyri...\n",
      "3820    Visited market://details?id=jp.co.ponos.battle...\n",
      "3837    Visited market://details?id=com.miHoYo.Genshin...\n",
      "3853    Visited market://details?id=com.miHoYo.Genshin...\n",
      "3864    Visited https://ad.doubleclick.net/ddm/trackcl...\n",
      "4230    Visited market://details?id=com.ourpalm.ggplay...\n",
      "4260    Visited market://details?id=com.riotgames.lege...\n",
      "Name: title, dtype: object\n"
     ]
    }
   ],
   "source": [
    "pd.options.display.max_rows = 50\n",
    "nona = df.dropna(subset=['details'])[\"title\"]\n",
    "\n",
    "print(nona) \n"
   ]
  },
  {
   "cell_type": "code",
   "execution_count": null,
   "id": "c549d277",
   "metadata": {},
   "outputs": [],
   "source": []
  }
 ],
 "metadata": {
  "kernelspec": {
   "display_name": "Python 3 (ipykernel)",
   "language": "python",
   "name": "python3"
  },
  "language_info": {
   "codemirror_mode": {
    "name": "ipython",
    "version": 3
   },
   "file_extension": ".py",
   "mimetype": "text/x-python",
   "name": "python",
   "nbconvert_exporter": "python",
   "pygments_lexer": "ipython3",
   "version": "3.11.5"
  }
 },
 "nbformat": 4,
 "nbformat_minor": 5
}
